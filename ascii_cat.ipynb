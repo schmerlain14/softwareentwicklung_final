{
 "cells": [
  {
   "cell_type": "markdown",
   "metadata": {},
   "source": [
    "# ASCII mirror cat"
   ]
  },
  {
   "cell_type": "markdown",
   "metadata": {},
   "source": [
    "1. Write a function that creates a mirror image of the ASCII cat. The output should be the same cat looking to the other side. Start with creating a mirror image of cat1. When this works, modify your code so that it also works for cat2. You can use the provided template. [2 bonus points]\n",
    "\n",
    "Hint:\n",
    "\n",
    "Some characters are escape characters that require a backslash or the raw string syntax, e.g. print('ex\\tamp\\nle') vs. print(r'ex\\tamp\\nle') (Python docs)\n"
   ]
  },
  {
   "cell_type": "markdown",
   "metadata": {},
   "source": [
    "  "
   ]
  },
  {
   "cell_type": "markdown",
   "metadata": {},
   "source": [
    "### Ascii table characters that need to be changed by their counterparts:\n",
    "\n",
    "40 = (\n",
    "\n",
    "41 = )\n",
    "\n",
    "47 = /\n",
    "\n",
    "92 = \\\n",
    "\n",
    "____________________________________________________\n",
    "\n",
    "40 -> 41\n",
    "\n",
    "41 -> 40\n",
    "\n",
    "47 -> 92\n",
    "\n",
    "92 -> 47\n",
    "\n",
    "ascii lookup taken from : http://www.asciitable.com/"
   ]
  },
  {
   "cell_type": "code",
   "execution_count": 27,
   "metadata": {},
   "outputs": [
    {
     "name": "stdout",
     "output_type": "stream",
     "text": [
      "Cat 1: \n",
      "                  _ \n",
      "                 / )\n",
      "                ( ( \n",
      "  A.-.A  .-\"\"-.  ) )\n",
      " / , , \\/      \\/ / \n",
      "=\\  t  ;=    /   /  \n",
      "  '--,'  .\"\"|   /   \n",
      "      || |  \\\\ \\    \n",
      "     ((,_|  ((,_\\   \n",
      "\n",
      "Mirrored cat 1:                      \n",
      "  _                  \n",
      " ( \\                 \n",
      "  ) )                \n",
      " ( (  .-\"\"-.  A.-.A  \n",
      "  \\ \\/      \\/ , , \\ \n",
      "   \\   \\    =;  t  /=\n",
      "    \\   |\"\".  ',--'  \n",
      "     / //  | ||      \n",
      "    /_,))  |_,))     \n",
      "\n",
      "\n",
      "Cat 2: \n",
      "                  _ \n",
      "                 / )\n",
      "                ( (\n",
      "  A.-.A  .-\"\"-.  ) )\n",
      " / , , \\/      \\/ /\n",
      "=\\  t  ;=    /   /\n",
      "  '--,'  .\"\"|   /\n",
      "      || |  \\\\ \\\n",
      "     ((,_|  ((,_\\\n",
      "\n",
      "Mirrored cat 2:                      \n",
      "  _                  \n",
      " ( \\                 \n",
      "  ) )                \n",
      " ( (  .-\"\"-.  A.-.A  \n",
      "  \\ \\/      \\/ , , \\ \n",
      "   \\   \\    =;  t  /=\n",
      "    \\   |\"\".  ',--'  \n",
      "     / //  | ||      \n",
      "    /_,))  |_,))     \n"
     ]
    }
   ],
   "source": [
    "def mirror_string(image):\n",
    "    \"\"\"Mirrors string. Replaces characters that have counterparts, keeps the rest.\"\"\"\n",
    "    assert \"\\n\" not in image\n",
    "    ascii_ = {40:41, 47:92, 41:40, 92:47} #ascii dictionary with character changes\n",
    "    replace = ''\n",
    "    for i in image:\n",
    "        replace = i+replace #replaces the characters that have counterparts\n",
    "    \n",
    "    return replace.translate(ascii_)\n",
    "\n",
    "\n",
    "def mirror(image):\n",
    "    \"\"\"Mirrors multi-line string. Breaks it up into strings, mirrors them,\n",
    "    puts them back together.\n",
    "    \n",
    "    What about padding/alignment?\n",
    "    \"\"\"\n",
    "    split_cat = []\n",
    "    for line in image.splitlines(): #splits the image at the line breaks\n",
    "                #longest lines are lines 2 and 4 = 19 spaces/characters \n",
    "                #(lets use 21 spaces with left padding for some extra space)\n",
    "        line = line.ljust(21, \" \")\n",
    "        split_cat.append(mirror_string(line)) #append the mirrored characters\n",
    "        #print(mirrored_cat) -> can be used to look at the split up cat\n",
    "    return \"\\n\".join(split_cat) #puts the split_cat together\n",
    "\n",
    "\n",
    "cat1 = r\"\"\"\n",
    "                  _ \n",
    "                 / )\n",
    "                ( ( \n",
    "  A.-.A  .-\"\"-.  ) )\n",
    " / , , \\/      \\/ / \n",
    "=\\  t  ;=    /   /  \n",
    "  '--,'  .\"\"|   /   \n",
    "      || |  \\\\ \\    \n",
    "     ((,_|  ((,_\\   \n",
    "\"\"\"\n",
    "\n",
    "cat2 = r\"\"\"\n",
    "                  _ \n",
    "                 / )\n",
    "                ( (\n",
    "  A.-.A  .-\"\"-.  ) )\n",
    " / , , \\/      \\/ /\n",
    "=\\  t  ;=    /   /\n",
    "  '--,'  .\"\"|   /\n",
    "      || |  \\\\ \\\n",
    "     ((,_|  ((,_\\\n",
    "\"\"\"\n",
    "\n",
    "print(\"Cat 1:\", cat1)\n",
    "print(\"Mirrored cat 1:\", mirror(cat1))\n",
    "\n",
    "print(\"\\n\")\n",
    "\n",
    "print(\"Cat 2:\", cat2)\n",
    "print(\"Mirrored cat 2:\", mirror(cat2))"
   ]
  },
  {
   "cell_type": "markdown",
   "metadata": {},
   "source": []
  },
  {
   "cell_type": "code",
   "execution_count": null,
   "metadata": {},
   "outputs": [],
   "source": []
  }
 ],
 "metadata": {
  "kernelspec": {
   "display_name": "Python 3",
   "language": "python",
   "name": "python3"
  },
  "language_info": {
   "codemirror_mode": {
    "name": "ipython",
    "version": 3
   },
   "file_extension": ".py",
   "mimetype": "text/x-python",
   "name": "python",
   "nbconvert_exporter": "python",
   "pygments_lexer": "ipython3",
   "version": "3.7.9"
  }
 },
 "nbformat": 4,
 "nbformat_minor": 4
}
